{
  "nbformat": 4,
  "nbformat_minor": 0,
  "metadata": {
    "colab": {
      "provenance": [],
      "include_colab_link": true
    },
    "kernelspec": {
      "name": "python3",
      "display_name": "Python 3"
    },
    "language_info": {
      "name": "python"
    }
  },
  "cells": [
    {
      "cell_type": "markdown",
      "metadata": {
        "id": "view-in-github",
        "colab_type": "text"
      },
      "source": [
        "<a href=\"https://colab.research.google.com/github/jongha22/linear/blob/main/ex02_transform_tiefighter_202010912_%EC%A0%84%EC%A2%85%ED%95%98.ipynb\" target=\"_parent\"><img src=\"https://colab.research.google.com/assets/colab-badge.svg\" alt=\"Open In Colab\"/></a>"
      ]
    },
    {
      "cell_type": "markdown",
      "source": [
        "### 라이브러리 선언"
      ],
      "metadata": {
        "id": "VcKvO8KcJ9AJ"
      }
    },
    {
      "cell_type": "code",
      "source": [
        "import numpy as np\n",
        "import matplotlib.pyplot as plt\n",
        "from matplotlib.patches import Polygon\n",
        "\n",
        "INF = 1000  # 그림판 크기\n",
        "LEN = 100   # 처음 사각형의 크기"
      ],
      "metadata": {
        "id": "uwkBDldBERem"
      },
      "execution_count": 6,
      "outputs": []
    },
    {
      "cell_type": "code",
      "source": [],
      "metadata": {
        "id": "fnQK48ASc6hl"
      },
      "execution_count": null,
      "outputs": []
    },
    {
      "cell_type": "markdown",
      "source": [
        "### 축 그리기 및 사각형 그리기"
      ],
      "metadata": {
        "id": "eSiS-XHya1FY"
      }
    },
    {
      "cell_type": "code",
      "source": [
        "def draw_axis(ax):\n",
        "  ax.axhline(0, color='black', alpha=0.3)  # x-axis line\n",
        "  ax.axvline(0, color='black', alpha=0.3)  # y-axis line\n",
        "  ax.set_xlim(-INF, INF)\n",
        "  ax.set_ylim(-INF, INF)\n",
        "  ax.set_aspect('equal')  # 정사각형 모양으로 backboard 그리기"
      ],
      "metadata": {
        "id": "_fc5wJBeKXDN"
      },
      "execution_count": 7,
      "outputs": []
    },
    {
      "cell_type": "code",
      "source": [
        "def draw_rectangle(ax, p1, p2, p3, p4):\n",
        "  my_polygon = Polygon([p1, p2, p3, p4])\n",
        "  ax.add_patch(my_polygon)"
      ],
      "metadata": {
        "id": "0XC7sFs9Hf3e"
      },
      "execution_count": 8,
      "outputs": []
    },
    {
      "cell_type": "code",
      "source": [
        "def draw_object(ax):\n",
        "  p1 = np.array([0, 0])\n",
        "  p2 = np.array([LEN, 0])\n",
        "  p3 = np.array([LEN, LEN])\n",
        "  p4 = np.array([0, LEN])\n",
        "\n",
        "  draw_rectangle(ax, p1, p2, p3, p4)"
      ],
      "metadata": {
        "id": "9_fAE1_kPjsv"
      },
      "execution_count": 9,
      "outputs": []
    },
    {
      "cell_type": "code",
      "source": [
        "# 그림판 선언 및 크기 설정\n",
        "fig, ax = plt.subplots(figsize=(7,7))\n",
        "\n",
        "# 축 그리기\n",
        "draw_axis(ax)\n",
        "\n",
        "# 물체 그리기\n",
        "draw_object(ax)\n",
        "\n",
        "plt.show()"
      ],
      "metadata": {
        "colab": {
          "base_uri": "https://localhost:8080/",
          "height": 605
        },
        "id": "L3r3ar9FQDKI",
        "outputId": "1f538012-cd38-4b08-f64b-6ff802f6be1e"
      },
      "execution_count": 10,
      "outputs": [
        {
          "output_type": "display_data",
          "data": {
            "text/plain": [
              "<Figure size 700x700 with 1 Axes>"
            ],
            "image/png": "[encoded data removed]"
          },
          "metadata": {}
        }
      ]
    },
    {
      "cell_type": "markdown",
      "source": [
        "### 본론\n",
        "#### 1. 변환 구현\n",
        "* translate(p, dx, dy)\n",
        "* rotate(p, theta)  \n",
        "* scale(p, sx, sy)  \n",
        "* shear_x(p, sx)  \n",
        "* shear_y(p, sy)  \n",
        "* reflect_x(p)  \n",
        "* reflect_y(p)   \n",
        "* ..."
      ],
      "metadata": {
        "id": "6txnl6M2PeUz"
      }
    },
    {
      "cell_type": "code",
      "source": [
        "# 점 p를 x축 방향으로 dx만큼, y축 방향으로 dy만큼 이동시킨 점 q를 구할 것\n",
        "# q = T(dx, dy) p1\n",
        "def translate(p, dx, dy):\n",
        "  # 1. 동차좌표계 (homogeneous coordinate)으로 변환\n",
        "  hp = np.array([p[0], p[1], 1.0])\n",
        "\n",
        "  # 2. 이동 변환 행렬 생성\n",
        "  m = np.array([[1.0, 0.0, dx], [0.0, 1.0, dy], [0.0, 0.0, 1.0]])\n",
        "  \n",
        "  # 3. 행렬과 벡터의 곱\n",
        "  q = np.dot(m, hp)  # (3,3) x (3,1) -> (3,1)\n",
        "  #print(q)\n",
        "\n",
        "  # 4. 2차원 좌표계로 변환\n",
        "  q = np.array([q[0], q[1]])\n",
        "  return q"
      ],
      "metadata": {
        "id": "g1iKgeNoP-Bu"
      },
      "execution_count": 11,
      "outputs": []
    },
    {
      "cell_type": "code",
      "source": [
        "#  점 p를 x축으로 a만큼, y축 방향으로 b만큼 크기를 바꾼 점 q\n",
        "def scale(p,a,b):\n",
        "  # 1. 동차좌표계로 변환\n",
        "  hp = np.array([p[0],p[1],1.0])\n",
        "\n",
        "  # 2. 이동 변환 행렬 생성\n",
        "  m = np.array([[a,0.0,0.0],[0.0,b,0.0],[0.0,0.0,1.0]])\n",
        "\n",
        "  # 3. 행렬과 벡터의 곱\n",
        "  q = np.dot(m,hp) \n",
        "\n",
        "  # 4. 2차원 좌표계로 변환\n",
        "  q = np.array([q[0],q[1]])\n",
        "  return q"
      ],
      "metadata": {
        "id": "z1oZ7lBkf9FT"
      },
      "execution_count": 12,
      "outputs": []
    },
    {
      "cell_type": "code",
      "source": [
        "#점 p를 a만큼 회전 시킨 점 q\n",
        "def rotate(p,a):\n",
        "  # 0. sin, cos 변수 생성\n",
        "  sin = np.sin(a)\n",
        "  cos = np.cos(a)\n",
        "\n",
        "  # 1. 동차좌표계로 변환\n",
        "  hp = np.array([p[0],p[1], 1.0])\n",
        "\n",
        "  # 2. 이동 변환 행렬 생성\n",
        "  m = np.array([[cos, -sin, 0.0],[sin, cos, 0.0],[0.0, 0.0, 1.0]])\n",
        "\n",
        "  # 3. 행렬과 벡터의 곱\n",
        "  q = np.dot(m,hp)\n",
        "\n",
        "  # 4. 2차원 좌표계로 변환\n",
        "  q = np.array([q[0],q[1]])\n",
        "  return q\n"
      ],
      "metadata": {
        "id": "OngmnaAbmJBC"
      },
      "execution_count": 13,
      "outputs": []
    },
    {
      "cell_type": "code",
      "source": [
        "#점 p를 x축으로 a만큼 기울인 점 q\n",
        "def shear_x(p,sx):\n",
        "# 1. 동차좌표계로 전환\n",
        "  hp = np.array([p[0],p[1],1.0])\n",
        "\n",
        "# 2. 이동 변환 행렬 생성\n",
        "  m = np.array([[1.0, sx, 0.0],[0.0, 1.0, 0.0],[0.0, 0.0, 1.0]])\n",
        "\n",
        "# 3. 행렬과 벡터의 곱\n",
        "  q = np.dot(m,hp)\n",
        "          \n",
        "# 4. 2차원 좌표계로 변환\n",
        "  q = np.array([q[0],q[1]])\n",
        "  return q"
      ],
      "metadata": {
        "id": "UPljl7Qmzrgx"
      },
      "execution_count": 14,
      "outputs": []
    },
    {
      "cell_type": "code",
      "source": [
        "#점 p를 y축으로 a만큼 기울인 점 q\n",
        "def shear_y(p,sy):\n",
        "# 1. 동차좌표계로 전환\n",
        "  hp = np.array([p[0],p[1],1.0])\n",
        "\n",
        "# 2. 이동 변환 행렬 생성\n",
        "  m = np.array([[1.0, 0.0, 0.0],[sy, 1.0, 0.0],[0.0, 0.0, 1.0]])\n",
        "\n",
        "# 3. 행렬과 벡터의 곱\n",
        "  q = np.dot(m,hp)\n",
        "          \n",
        "# 4. 2차원 좌표계로 변환\n",
        "  q = np.array([q[0],q[1]])\n",
        "  return q"
      ],
      "metadata": {
        "id": "PzxF7E1t5rFv"
      },
      "execution_count": 15,
      "outputs": []
    },
    {
      "cell_type": "code",
      "source": [
        "# 점 p를 x축으로 반전 시킨 점 q\n",
        "def reflect_x(p):\n",
        "# 1. 동차좌표계로 전환\n",
        "  hp = np.array([p[0],p[1],1.0])\n",
        "\n",
        "# 2. 이동 변환 행렬 생성\n",
        "  m = np.array([[1.0, 0.0, 0.0],[0.0, -1.0, 0.0],[0.0, 0.0, 1.0]])\n",
        "\n",
        "# 3. 행렬과 벡터의 곱\n",
        "  q = np.dot(m,hp)\n",
        "          \n",
        "# 4. 2차원 좌표계로 변환\n",
        "  q = np.array([q[0],q[1]])\n",
        "  return q"
      ],
      "metadata": {
        "id": "BYsyS9Bk58vr"
      },
      "execution_count": 16,
      "outputs": []
    },
    {
      "cell_type": "code",
      "source": [
        "# 점 p를 y축으로 반전 시킨 점 q\n",
        "def reflect_y(p):\n",
        "# 1. 동차좌표계로 전환\n",
        "  hp = np.array([p[0],p[1],1.0])\n",
        "\n",
        "# 2. 이동 변환 행렬 생성\n",
        "  m = np.array([[-1.0, 0.0, 0.0],[0.0, 1.0, 0.0],[0.0, 0.0, 1.0]])\n",
        "\n",
        "# 3. 행렬과 벡터의 곱\n",
        "  q = np.dot(m,hp)\n",
        "          \n",
        "# 4. 2차원 좌표계로 변환\n",
        "  q = np.array([q[0],q[1]])\n",
        "  return q"
      ],
      "metadata": {
        "id": "SD7mwvvq6W6E"
      },
      "execution_count": 17,
      "outputs": []
    },
    {
      "cell_type": "markdown",
      "source": [
        "#### 2. 파트 그리기\n",
        "* draw_cockpit(p1, p2, p3, p4)    # 중앙 조종석\n",
        "* draw_left_arm(p1, p2, p3, p4)   # 왼쪽 날개축\n",
        "* draw_left_wing(p1, p2, p3, p4)  # 왼쪽 날개\n",
        "* draw_right_arm(p1, p2, p3, p4)  # 오른쪽 날개축\n",
        "* draw_right_wing(p1, p2, p3, p4) # 오른쪽 날개"
      ],
      "metadata": {
        "id": "E_jHSezpTC-9"
      }
    },
    {
      "cell_type": "code",
      "source": [
        "def draw_cockpit(ax, p1, p2, p3, p4):  # 중앙 조종석\n",
        "  # 1. 사각형을 원점으로 이동 변환: T(-LEN/2, -LEN/2)\n",
        "  # q = T(-LEN/2, -LEN/2)p\n",
        "  q1 = translate(p1, -LEN/2, -LEN/2)\n",
        "  q2 = translate(p2, -LEN/2, -LEN/2)\n",
        "  q3 = translate(p3, -LEN/2, -LEN/2)\n",
        "  q4 = translate(p4, -LEN/2, -LEN/2)\n",
        "\n",
        "  \n",
        "  # 2. 크기 변환: S(5, 5)\n",
        "  s = 5\n",
        "  q1 = scale(q1, s, s)\n",
        "  q2 = scale(q2, s, s)\n",
        "  q3 = scale(q3, s, s)\n",
        "  q4 = scale(q4, s, s)\n",
        "  \n",
        "\n",
        "  # 3. 회전 변환: R(pi/4)\n",
        "  q1 = rotate(q1, 3.14/4.0)\n",
        "  q2 = rotate(q2, 3.14/4.0)\n",
        "  q3 = rotate(q3, 3.14/4.0)\n",
        "  q4 = rotate(q4, 3.14/4.0)\n",
        "\n",
        "  # 4. polygon 그리기 \n",
        "  draw_rectangle(ax, q1, q2, q3, q4)"
      ],
      "metadata": {
        "id": "6C7a4CH4HSj0"
      },
      "execution_count": 18,
      "outputs": []
    },
    {
      "cell_type": "code",
      "source": [
        "def draw_right_arm(ax,p1,p2,p3,p4):\n",
        "  s = 8\n",
        "  q1 = scale(p1,s,0.75)\n",
        "  q2 = scale(p2,s,0.75)\n",
        "  q3 = scale(p3,s,0.75)\n",
        "  q4 = scale(p4,s,0.75)\n",
        "\n",
        "  q1 = translate(q1,0,100)\n",
        "  q2 = translate(q2,0,100)\n",
        "  q3 = translate(q3,0,100)\n",
        "  q4 = translate(q4,0,100)\n",
        "\n",
        "  q1 = shear_y(q1,-1/8)\n",
        "  q2 = shear_y(q2,-1/8)\n",
        "  q3 = shear_y(q3,-1/8)\n",
        "  q4 = shear_y(q4,-1/8)\n",
        "\n",
        "  draw_rectangle(ax,q1,q2, q3, q4)\n",
        "\n",
        "  q1= reflect_x(q1)\n",
        "  q2= reflect_x(q2)\n",
        "  q3= reflect_x(q3)\n",
        "  q4= reflect_x(q4)\n",
        "  \n",
        "  draw_rectangle(ax,q1,q2,q3,q4)"
      ],
      "metadata": {
        "id": "oo4gy-ZH6n8p"
      },
      "execution_count": 36,
      "outputs": []
    },
    {
      "cell_type": "code",
      "source": [
        "def draw_right_wing(ax,p1,p2,p3,p4):\n",
        "  q1 = translate(p1,800,-LEN/2)\n",
        "  q2 = translate(p2,800,-LEN/2)\n",
        "  q3 = translate(p3,800,-LEN/2)\n",
        "  q4 = translate(p4,800,-LEN/2)\n",
        "\n",
        "  q1 = scale(q1,1,4)\n",
        "  q2 = scale(q2,1,4)\n",
        "  q3 = scale(q3,1,4)\n",
        "  q4 = scale(q4,1,4)\n",
        "\n",
        "  draw_rectangle(ax,q1,q2,q3,q4)\n",
        "\n",
        "  q1 = scale(p1,6,1)\n",
        "  q2 = scale(p2,6,1)\n",
        "  q3 = scale(p3,6,1)\n",
        "  q4 = scale(p4,6,1)\n",
        "\n",
        "  q1 = translate(q1,300,700)\n",
        "  q2 = translate(q2,300,700)\n",
        "  q3 = translate(q3,300,700)\n",
        "  q4 = translate(q4,300,700)\n",
        "\n",
        "  q1 = shear_y(q1,-2/3)\n",
        "  q2 = shear_y(q2,-2/3)\n",
        "  q3 = shear_y(q3,-2/3)\n",
        "  q4 = shear_y(q4,-2/3)\n",
        "\n",
        "  draw_rectangle(ax, q1, q2, q3, q4)\n",
        "\n",
        "  q1 = reflect_x(q1)\n",
        "  q2 = reflect_x(q2)\n",
        "  q3 = reflect_x(q3)\n",
        "  q4 = reflect_x(q4)\n",
        "\n",
        "  draw_rectangle(ax, q1, q2, q3, q4)"
      ],
      "metadata": {
        "id": "8MWGn5XxkEXs"
      },
      "execution_count": 78,
      "outputs": []
    },
    {
      "cell_type": "code",
      "source": [
        "def draw_left_arm(ax,p1,p2,p3,p4):\n",
        "  s = 8\n",
        "  q1 = scale(p1,s,0.75)\n",
        "  q2 = scale(p2,s,0.75)\n",
        "  q3 = scale(p3,s,0.75)\n",
        "  q4 = scale(p4,s,0.75)\n",
        "\n",
        "  q1 = translate(q1,-800,100)\n",
        "  q2 = translate(q2,-800,100)\n",
        "  q3 = translate(q3,-800,100)\n",
        "  q4 = translate(q4,-800,100)\n",
        "\n",
        "  q1 = shear_y(q1,1/8)\n",
        "  q2 = shear_y(q2,1/8)\n",
        "  q3 = shear_y(q3,1/8)\n",
        "  q4 = shear_y(q4,1/8)\n",
        "\n",
        "  draw_rectangle(ax,q1,q2, q3, q4)\n",
        "\n",
        "  q1= reflect_x(q1)\n",
        "  q2= reflect_x(q2)\n",
        "  q3= reflect_x(q3)\n",
        "  q4= reflect_x(q4)\n",
        "  \n",
        "  draw_rectangle(ax,q1,q2,q3,q4)"
      ],
      "metadata": {
        "id": "ErTdgLjbstvr"
      },
      "execution_count": 85,
      "outputs": []
    },
    {
      "cell_type": "code",
      "source": [
        "def draw_left_wing(ax,p1,p2,p3,p4):\n",
        "  q1 = translate(p1,-900,-LEN/2)\n",
        "  q2 = translate(p2,-900,-LEN/2)\n",
        "  q3 = translate(p3,-900,-LEN/2)\n",
        "  q4 = translate(p4,-900,-LEN/2)\n",
        "\n",
        "  q1 = scale(q1,1,4)\n",
        "  q2 = scale(q2,1,4)\n",
        "  q3 = scale(q3,1,4)\n",
        "  q4 = scale(q4,1,4)\n",
        "\n",
        "  draw_rectangle(ax,q1,q2,q3,q4)\n",
        "\n",
        "  q1 = scale(p1,6,1)\n",
        "  q2 = scale(p2,6,1)\n",
        "  q3 = scale(p3,6,1)\n",
        "  q4 = scale(p4,6,1)\n",
        "\n",
        "  q1 = translate(q1,-900,700)\n",
        "  q2 = translate(q2,-900,700)\n",
        "  q3 = translate(q3,-900,700)\n",
        "  q4 = translate(q4,-900,700)\n",
        "\n",
        "  q1 = shear_y(q1,2/3)\n",
        "  q2 = shear_y(q2,2/3)\n",
        "  q3 = shear_y(q3,2/3)\n",
        "  q4 = shear_y(q4,2/3)\n",
        "\n",
        "  draw_rectangle(ax, q1, q2, q3, q4)\n",
        "\n",
        "  q1 = reflect_x(q1)\n",
        "  q2 = reflect_x(q2)\n",
        "  q3 = reflect_x(q3)\n",
        "  q4 = reflect_x(q4)\n",
        "\n",
        "  draw_rectangle(ax, q1, q2, q3, q4)"
      ],
      "metadata": {
        "id": "XMeZvzlrtRDq"
      },
      "execution_count": 109,
      "outputs": []
    },
    {
      "cell_type": "code",
      "execution_count": 88,
      "metadata": {
        "id": "hMI0xB0pDlnU"
      },
      "outputs": [],
      "source": [
        "# 2. tiefigher 그리기\n",
        "def draw_object(ax):\n",
        "  p1 = np.array([0, 0])\n",
        "  p2 = np.array([LEN, 0])\n",
        "  p3 = np.array([LEN, LEN])\n",
        "  p4 = np.array([0, LEN])\n",
        "  # 1. 중앙 조종석 그리기\n",
        "  draw_cockpit(ax, p1, p2, p3, p4)\n",
        "\n",
        "  # 2. 오른쪽 날개축 그리기\n",
        "  draw_right_arm(ax, p1, p2, p3, p4)\n",
        "  \n",
        "  # 3. 오른쪽 날개 그리기\n",
        "  draw_right_wing(ax, p1, p2, p3, p4)\n",
        "\n",
        "  # 4. 왼쪽 날개축 그리기\n",
        "  draw_left_arm(ax, p1, p2, p3, p4)\n",
        "\n",
        "  # 5. 왼쪽 날개 그리기\n",
        "  draw_left_wing(ax, p1, p2, p3, p4)"
      ]
    },
    {
      "cell_type": "markdown",
      "source": [
        "### 3. main"
      ],
      "metadata": {
        "id": "24hO1zQaHiFJ"
      }
    },
    {
      "cell_type": "code",
      "source": [
        "# 그림판 선언 및 크기 설정\n",
        "fig, ax = plt.subplots(figsize=(7,7))\n",
        "\n",
        "# 축 그리기\n",
        "draw_axis(ax)\n",
        "\n",
        "# 물체 그리기\n",
        "draw_object(ax)\n",
        "\n",
        "plt.show()"
      ],
      "metadata": {
        "colab": {
          "base_uri": "https://localhost:8080/",
          "height": 605
        },
        "id": "1Bdz-KxWLLHb",
        "outputId": "ad01aac5-7a4b-4fc7-ef2e-8280e7f65e1a"
      },
      "execution_count": 110,
      "outputs": [
        {
          "output_type": "display_data",
          "data": {
            "text/plain": [
              "<Figure size 700x700 with 1 Axes>"
            ],
            "image/png": "[encoded data removed]"
          },
          "metadata": {}
        }
      ]
    }
  ]
}